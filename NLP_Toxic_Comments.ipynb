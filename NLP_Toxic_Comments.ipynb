{
  "cells": [
    {
      "cell_type": "markdown",
      "metadata": {
        "id": "n7vsf4b63jzc"
      },
      "source": [
        "### Getting Dataset"
      ]
    },
    {
      "cell_type": "code",
      "execution_count": null,
      "metadata": {
        "id": "y9_qViYe2Rmn"
      },
      "outputs": [],
      "source": [
        "import warnings\n",
        "warnings.filterwarnings('ignore')"
      ]
    },
    {
      "cell_type": "code",
      "execution_count": null,
      "metadata": {
        "id": "DkNYrt28LU9r"
      },
      "outputs": [],
      "source": [
        "import pandas as pd\n",
        "import numpy as np\n",
        "import nltk\n",
        "from nltk.corpus import stopwords\n",
        "import re\n",
        "import string\n",
        "from sklearn.feature_extraction.text import TfidfVectorizer\n",
        "from scipy import sparse\n",
        "import matplotlib.pyplot as plt\n",
        "import seaborn as sns\n",
        "from sklearn.pipeline import make_union\n",
        "import pickle"
      ]
    },
    {
      "cell_type": "code",
      "execution_count": null,
      "metadata": {
        "id": "n3qh56JaIwPq"
      },
      "outputs": [],
      "source": [
        "#1 Code to read csv file into colaboratory:\n",
        "!pip install -U -q PyDrive\n",
        "from pydrive.auth import GoogleAuth\n",
        "from pydrive.drive import GoogleDrive\n",
        "from google.colab import auth\n",
        "from oauth2client.client import GoogleCredentials\n",
        "\n",
        "# 1. Authenticate and create the PyDrive client.\n",
        "auth.authenticate_user()\n",
        "gauth = GoogleAuth()\n",
        "gauth.credentials = GoogleCredentials.get_application_default()\n",
        "drive = GoogleDrive(gauth)"
      ]
    },
    {
      "cell_type": "code",
      "execution_count": null,
      "metadata": {
        "id": "T7-oO5UMJEk0"
      },
      "outputs": [],
      "source": [
        "#2. Get the file\n",
        "#make sure you upload all your data files to your Google drive and change share->Advanced->change->anyone with the link can view\n",
        "downloaded = drive.CreateFile({'id':'1b0BcOqd8kv_6qhtKdBEeVPt7XjoqSego'}) # replace the id with id of file you want to access\n",
        "downloaded.GetContentFile('train.csv')"
      ]
    },
    {
      "cell_type": "code",
      "execution_count": null,
      "metadata": {
        "colab": {
          "base_uri": "https://localhost:8080/",
          "height": 337
        },
        "id": "7pZir0UDJFU2",
        "outputId": "9432352e-96b6-4bca-eabe-08e7b1fb357a"
      },
      "outputs": [
        {
          "output_type": "execute_result",
          "data": {
            "text/plain": [
              "                 id                                       comment_text  toxic  \\\n",
              "0  0000997932d777bf  Explanation\\nWhy the edits made under my usern...      0   \n",
              "1  000103f0d9cfb60f  D'aww! He matches this background colour I'm s...      0   \n",
              "2  000113f07ec002fd  Hey man, I'm really not trying to edit war. It...      0   \n",
              "3  0001b41b1c6bb37e  \"\\nMore\\nI can't make any real suggestions on ...      0   \n",
              "4  0001d958c54c6e35  You, sir, are my hero. Any chance you remember...      0   \n",
              "\n",
              "   severe_toxic  obscene  threat  insult  identity_hate  \n",
              "0             0        0       0       0              0  \n",
              "1             0        0       0       0              0  \n",
              "2             0        0       0       0              0  \n",
              "3             0        0       0       0              0  \n",
              "4             0        0       0       0              0  "
            ],
            "text/html": [
              "\n",
              "  <div id=\"df-bcb6bbd9-7b57-4eea-aee0-27fc349f1309\">\n",
              "    <div class=\"colab-df-container\">\n",
              "      <div>\n",
              "<style scoped>\n",
              "    .dataframe tbody tr th:only-of-type {\n",
              "        vertical-align: middle;\n",
              "    }\n",
              "\n",
              "    .dataframe tbody tr th {\n",
              "        vertical-align: top;\n",
              "    }\n",
              "\n",
              "    .dataframe thead th {\n",
              "        text-align: right;\n",
              "    }\n",
              "</style>\n",
              "<table border=\"1\" class=\"dataframe\">\n",
              "  <thead>\n",
              "    <tr style=\"text-align: right;\">\n",
              "      <th></th>\n",
              "      <th>id</th>\n",
              "      <th>comment_text</th>\n",
              "      <th>toxic</th>\n",
              "      <th>severe_toxic</th>\n",
              "      <th>obscene</th>\n",
              "      <th>threat</th>\n",
              "      <th>insult</th>\n",
              "      <th>identity_hate</th>\n",
              "    </tr>\n",
              "  </thead>\n",
              "  <tbody>\n",
              "    <tr>\n",
              "      <th>0</th>\n",
              "      <td>0000997932d777bf</td>\n",
              "      <td>Explanation\\nWhy the edits made under my usern...</td>\n",
              "      <td>0</td>\n",
              "      <td>0</td>\n",
              "      <td>0</td>\n",
              "      <td>0</td>\n",
              "      <td>0</td>\n",
              "      <td>0</td>\n",
              "    </tr>\n",
              "    <tr>\n",
              "      <th>1</th>\n",
              "      <td>000103f0d9cfb60f</td>\n",
              "      <td>D'aww! He matches this background colour I'm s...</td>\n",
              "      <td>0</td>\n",
              "      <td>0</td>\n",
              "      <td>0</td>\n",
              "      <td>0</td>\n",
              "      <td>0</td>\n",
              "      <td>0</td>\n",
              "    </tr>\n",
              "    <tr>\n",
              "      <th>2</th>\n",
              "      <td>000113f07ec002fd</td>\n",
              "      <td>Hey man, I'm really not trying to edit war. It...</td>\n",
              "      <td>0</td>\n",
              "      <td>0</td>\n",
              "      <td>0</td>\n",
              "      <td>0</td>\n",
              "      <td>0</td>\n",
              "      <td>0</td>\n",
              "    </tr>\n",
              "    <tr>\n",
              "      <th>3</th>\n",
              "      <td>0001b41b1c6bb37e</td>\n",
              "      <td>\"\\nMore\\nI can't make any real suggestions on ...</td>\n",
              "      <td>0</td>\n",
              "      <td>0</td>\n",
              "      <td>0</td>\n",
              "      <td>0</td>\n",
              "      <td>0</td>\n",
              "      <td>0</td>\n",
              "    </tr>\n",
              "    <tr>\n",
              "      <th>4</th>\n",
              "      <td>0001d958c54c6e35</td>\n",
              "      <td>You, sir, are my hero. Any chance you remember...</td>\n",
              "      <td>0</td>\n",
              "      <td>0</td>\n",
              "      <td>0</td>\n",
              "      <td>0</td>\n",
              "      <td>0</td>\n",
              "      <td>0</td>\n",
              "    </tr>\n",
              "  </tbody>\n",
              "</table>\n",
              "</div>\n",
              "      <button class=\"colab-df-convert\" onclick=\"convertToInteractive('df-bcb6bbd9-7b57-4eea-aee0-27fc349f1309')\"\n",
              "              title=\"Convert this dataframe to an interactive table.\"\n",
              "              style=\"display:none;\">\n",
              "        \n",
              "  <svg xmlns=\"http://www.w3.org/2000/svg\" height=\"24px\"viewBox=\"0 0 24 24\"\n",
              "       width=\"24px\">\n",
              "    <path d=\"M0 0h24v24H0V0z\" fill=\"none\"/>\n",
              "    <path d=\"M18.56 5.44l.94 2.06.94-2.06 2.06-.94-2.06-.94-.94-2.06-.94 2.06-2.06.94zm-11 1L8.5 8.5l.94-2.06 2.06-.94-2.06-.94L8.5 2.5l-.94 2.06-2.06.94zm10 10l.94 2.06.94-2.06 2.06-.94-2.06-.94-.94-2.06-.94 2.06-2.06.94z\"/><path d=\"M17.41 7.96l-1.37-1.37c-.4-.4-.92-.59-1.43-.59-.52 0-1.04.2-1.43.59L10.3 9.45l-7.72 7.72c-.78.78-.78 2.05 0 2.83L4 21.41c.39.39.9.59 1.41.59.51 0 1.02-.2 1.41-.59l7.78-7.78 2.81-2.81c.8-.78.8-2.07 0-2.86zM5.41 20L4 18.59l7.72-7.72 1.47 1.35L5.41 20z\"/>\n",
              "  </svg>\n",
              "      </button>\n",
              "      \n",
              "  <style>\n",
              "    .colab-df-container {\n",
              "      display:flex;\n",
              "      flex-wrap:wrap;\n",
              "      gap: 12px;\n",
              "    }\n",
              "\n",
              "    .colab-df-convert {\n",
              "      background-color: #E8F0FE;\n",
              "      border: none;\n",
              "      border-radius: 50%;\n",
              "      cursor: pointer;\n",
              "      display: none;\n",
              "      fill: #1967D2;\n",
              "      height: 32px;\n",
              "      padding: 0 0 0 0;\n",
              "      width: 32px;\n",
              "    }\n",
              "\n",
              "    .colab-df-convert:hover {\n",
              "      background-color: #E2EBFA;\n",
              "      box-shadow: 0px 1px 2px rgba(60, 64, 67, 0.3), 0px 1px 3px 1px rgba(60, 64, 67, 0.15);\n",
              "      fill: #174EA6;\n",
              "    }\n",
              "\n",
              "    [theme=dark] .colab-df-convert {\n",
              "      background-color: #3B4455;\n",
              "      fill: #D2E3FC;\n",
              "    }\n",
              "\n",
              "    [theme=dark] .colab-df-convert:hover {\n",
              "      background-color: #434B5C;\n",
              "      box-shadow: 0px 1px 3px 1px rgba(0, 0, 0, 0.15);\n",
              "      filter: drop-shadow(0px 1px 2px rgba(0, 0, 0, 0.3));\n",
              "      fill: #FFFFFF;\n",
              "    }\n",
              "  </style>\n",
              "\n",
              "      <script>\n",
              "        const buttonEl =\n",
              "          document.querySelector('#df-bcb6bbd9-7b57-4eea-aee0-27fc349f1309 button.colab-df-convert');\n",
              "        buttonEl.style.display =\n",
              "          google.colab.kernel.accessAllowed ? 'block' : 'none';\n",
              "\n",
              "        async function convertToInteractive(key) {\n",
              "          const element = document.querySelector('#df-bcb6bbd9-7b57-4eea-aee0-27fc349f1309');\n",
              "          const dataTable =\n",
              "            await google.colab.kernel.invokeFunction('convertToInteractive',\n",
              "                                                     [key], {});\n",
              "          if (!dataTable) return;\n",
              "\n",
              "          const docLinkHtml = 'Like what you see? Visit the ' +\n",
              "            '<a target=\"_blank\" href=https://colab.research.google.com/notebooks/data_table.ipynb>data table notebook</a>'\n",
              "            + ' to learn more about interactive tables.';\n",
              "          element.innerHTML = '';\n",
              "          dataTable['output_type'] = 'display_data';\n",
              "          await google.colab.output.renderOutput(dataTable, element);\n",
              "          const docLink = document.createElement('div');\n",
              "          docLink.innerHTML = docLinkHtml;\n",
              "          element.appendChild(docLink);\n",
              "        }\n",
              "      </script>\n",
              "    </div>\n",
              "  </div>\n",
              "  "
            ]
          },
          "metadata": {},
          "execution_count": 5
        }
      ],
      "source": [
        "df = pd.read_csv(\"train.csv\")\n",
        "df.head()"
      ]
    },
    {
      "cell_type": "markdown",
      "metadata": {
        "id": "XaGG9Hzy6U1E"
      },
      "source": [
        "### Data Visualization"
      ]
    },
    {
      "cell_type": "code",
      "execution_count": null,
      "metadata": {
        "colab": {
          "base_uri": "https://localhost:8080/",
          "height": 1000
        },
        "id": "UIbP8Rye4CaP",
        "outputId": "f948f4e2-7307-4621-c308-19d70fdf3872"
      },
      "outputs": [
        {
          "output_type": "stream",
          "name": "stdout",
          "text": [
            "\n",
            "15294 toxic comments. (9.58% of all data.)\n",
            "- 1595 or 10.43% were also severe_toxic.\n",
            "- 7926 or 51.82% were also obscene.\n",
            "- 449 or 2.94% were also threat.\n",
            "- 7344 or 48.02% were also insult.\n",
            "- 1302 or 8.51% were also identity_hate.\n",
            "\n",
            "1595 severe_toxic comments. (1.00% of all data.)\n",
            "- 1595 or 100.00% were also toxic.\n",
            "- 1517 or 95.11% were also obscene.\n",
            "- 112 or 7.02% were also threat.\n",
            "- 1371 or 85.96% were also insult.\n",
            "- 313 or 19.62% were also identity_hate.\n",
            "\n",
            "8449 obscene comments. (5.29% of all data.)\n",
            "- 7926 or 93.81% were also toxic.\n",
            "- 1517 or 17.95% were also severe_toxic.\n",
            "- 301 or 3.56% were also threat.\n",
            "- 6155 or 72.85% were also insult.\n",
            "- 1032 or 12.21% were also identity_hate.\n",
            "\n",
            "478 threat comments. (0.30% of all data.)\n",
            "- 449 or 93.93% were also toxic.\n",
            "- 112 or 23.43% were also severe_toxic.\n",
            "- 301 or 62.97% were also obscene.\n",
            "- 307 or 64.23% were also insult.\n",
            "- 98 or 20.50% were also identity_hate.\n",
            "\n",
            "7877 insult comments. (4.94% of all data.)\n",
            "- 7344 or 93.23% were also toxic.\n",
            "- 1371 or 17.41% were also severe_toxic.\n",
            "- 6155 or 78.14% were also obscene.\n",
            "- 307 or 3.90% were also threat.\n",
            "- 1160 or 14.73% were also identity_hate.\n",
            "\n",
            "1405 identity_hate comments. (0.88% of all data.)\n",
            "- 1302 or 92.67% were also toxic.\n",
            "- 313 or 22.28% were also severe_toxic.\n",
            "- 1032 or 73.45% were also obscene.\n",
            "- 98 or 6.98% were also threat.\n",
            "- 1160 or 82.56% were also insult.\n"
          ]
        },
        {
          "output_type": "display_data",
          "data": {
            "text/plain": [
              "<Figure size 576x432 with 1 Axes>"
            ],
            "image/png": "[encoded data removed]"
          },
          "metadata": {
            "needs_background": "light"
          }
        }
      ],
      "source": [
        "targets = list(df.columns[2:])\n",
        "df_targets = df[targets].copy()\n",
        "\n",
        "count_dic = {}\n",
        "for comment_type in targets:\n",
        "    counts = list()\n",
        "    others = list(targets)\n",
        "    df_selection = df_targets[(df_targets[comment_type]==1)]\n",
        "    others.remove(comment_type)\n",
        "    counts.append(('total', len(df_selection)))\n",
        "    for other in others:\n",
        "        counts.append((other, df_selection[other].sum()))\n",
        "    count_dic[comment_type] = counts\n",
        "\n",
        "totals = []\n",
        "for key, value in count_dic.items():\n",
        "    totals.append(value[0][1])\n",
        "    print('\\n%d %s comments. (%.2f%% of all data.)' % (value[0][1], key, (value[0][1]/len(df))*100))\n",
        "    for cnt in value[1:]:\n",
        "        print('- %d or %.2f%% were also %s.' % (cnt[1], (cnt[1]/value[0][1])*100, cnt[0]))\n",
        "\n",
        "plt.figure('Comment Type Counts', figsize=[8,6])\n",
        "plt.title('Comment Type Counts')\n",
        "sns.barplot(x=list(count_dic.keys()), y=totals)\n",
        "plt.show()"
      ]
    },
    {
      "cell_type": "markdown",
      "metadata": {
        "id": "1PJ-QCW06b0v"
      },
      "source": [
        "### Pre-Processing"
      ]
    },
    {
      "cell_type": "markdown",
      "metadata": {
        "id": "F1Kd-WeqlnQJ"
      },
      "source": [
        "#### Feature Engineering"
      ]
    },
    {
      "cell_type": "code",
      "execution_count": null,
      "metadata": {
        "id": "FkJyccqF6e5x"
      },
      "outputs": [],
      "source": [
        "def feature_engineering(df, sparse=0):\n",
        "\n",
        "    # Comment length\n",
        "    df['length'] = df.comment_text.apply(lambda x: len(x))\n",
        "\n",
        "\n",
        "    # Capitalization percentage\n",
        "    def pct_caps(s):\n",
        "        return sum([1 for c in s if c.isupper()]) / (sum(([1 for c in s if c.isalpha()])) + 1)\n",
        "    df['caps'] = df.comment_text.apply(lambda x: pct_caps(x))\n",
        "\n",
        "    # Mean Word length\n",
        "    def word_length(s):\n",
        "        s = s.split(' ')\n",
        "        return np.mean([len(w) for w in s if w.isalpha()])\n",
        "    df['word_length'] = df.comment_text.apply(lambda x: word_length(x))\n",
        "\n",
        "    # Average number of exclamation points\n",
        "    df['exclamation'] = df.comment_text.apply(lambda s: len([c for c in s if c == '!']))\n",
        "\n",
        "    # Average number of question marks\n",
        "    df['question'] = df.comment_text.apply(lambda s: len([c for c in s if c == '?']))\n",
        "\n",
        "    # Strip IP Addresses\n",
        "    ip = re.compile('(([2][5][0-5]\\.)|([2][0-4][0-9]\\.)|([0-1]?[0-9]?[0-9]\\.)){3}'\n",
        "                    +'(([2][5][0-5])|([2][0-4][0-9])|([0-1]?[0-9]?[0-9]))')\n",
        "    def strip_ip(s, ip):\n",
        "        try:\n",
        "            found = ip.search(s)\n",
        "            return s.replace(found.group(), ' ')\n",
        "        except:\n",
        "            return s\n",
        "\n",
        "    df.comment_text = df.comment_text.apply(lambda x: strip_ip(x, ip))\n",
        "\n",
        "    return df\n",
        "\n",
        "def merge_features(comment_text, data, engineered_features):\n",
        "    new_features = sparse.csr_matrix(data[engineered_features].values)\n",
        "    if np.isnan(new_features.data).any():\n",
        "        new_features.data = np.nan_to_num(new_features.data)\n",
        "    return sparse.hstack([comment_text, new_features])"
      ]
    },
    {
      "cell_type": "code",
      "execution_count": null,
      "metadata": {
        "colab": {
          "base_uri": "https://localhost:8080/",
          "height": 461
        },
        "id": "_JZC0fbb9Kd0",
        "outputId": "4a46a9b5-a460-47a5-9e68-59c06314e184"
      },
      "outputs": [
        {
          "output_type": "execute_result",
          "data": {
            "text/plain": [
              "                 id                                       comment_text  toxic  \\\n",
              "0  0000997932d777bf  Explanation\\nWhy the edits made under my usern...      0   \n",
              "1  000103f0d9cfb60f  D'aww! He matches this background colour I'm s...      0   \n",
              "2  000113f07ec002fd  Hey man, I'm really not trying to edit war. It...      0   \n",
              "3  0001b41b1c6bb37e  \"\\nMore\\nI can't make any real suggestions on ...      0   \n",
              "4  0001d958c54c6e35  You, sir, are my hero. Any chance you remember...      0   \n",
              "\n",
              "   severe_toxic  obscene  threat  insult  identity_hate  length      caps  \\\n",
              "0             0        0       0       0              0     264  0.083333   \n",
              "1             0        0       0       0              0     112  0.108108   \n",
              "2             0        0       0       0              0     233  0.021390   \n",
              "3             0        0       0       0              0     622  0.022587   \n",
              "4             0        0       0       0              0      67  0.039216   \n",
              "\n",
              "   word_length  exclamation  question  \n",
              "0     4.500000            0         1  \n",
              "1     6.250000            1         0  \n",
              "2     4.638889            0         0  \n",
              "3     4.212766            0         0  \n",
              "4     4.125000            0         1  "
            ],
            "text/html": [
              "\n",
              "  <div id=\"df-e1ef0525-249d-4076-b515-61c0fb5e4d9a\">\n",
              "    <div class=\"colab-df-container\">\n",
              "      <div>\n",
              "<style scoped>\n",
              "    .dataframe tbody tr th:only-of-type {\n",
              "        vertical-align: middle;\n",
              "    }\n",
              "\n",
              "    .dataframe tbody tr th {\n",
              "        vertical-align: top;\n",
              "    }\n",
              "\n",
              "    .dataframe thead th {\n",
              "        text-align: right;\n",
              "    }\n",
              "</style>\n",
              "<table border=\"1\" class=\"dataframe\">\n",
              "  <thead>\n",
              "    <tr style=\"text-align: right;\">\n",
              "      <th></th>\n",
              "      <th>id</th>\n",
              "      <th>comment_text</th>\n",
              "      <th>toxic</th>\n",
              "      <th>severe_toxic</th>\n",
              "      <th>obscene</th>\n",
              "      <th>threat</th>\n",
              "      <th>insult</th>\n",
              "      <th>identity_hate</th>\n",
              "      <th>length</th>\n",
              "      <th>caps</th>\n",
              "      <th>word_length</th>\n",
              "      <th>exclamation</th>\n",
              "      <th>question</th>\n",
              "    </tr>\n",
              "  </thead>\n",
              "  <tbody>\n",
              "    <tr>\n",
              "      <th>0</th>\n",
              "      <td>0000997932d777bf</td>\n",
              "      <td>Explanation\\nWhy the edits made under my usern...</td>\n",
              "      <td>0</td>\n",
              "      <td>0</td>\n",
              "      <td>0</td>\n",
              "      <td>0</td>\n",
              "      <td>0</td>\n",
              "      <td>0</td>\n",
              "      <td>264</td>\n",
              "      <td>0.083333</td>\n",
              "      <td>4.500000</td>\n",
              "      <td>0</td>\n",
              "      <td>1</td>\n",
              "    </tr>\n",
              "    <tr>\n",
              "      <th>1</th>\n",
              "      <td>000103f0d9cfb60f</td>\n",
              "      <td>D'aww! He matches this background colour I'm s...</td>\n",
              "      <td>0</td>\n",
              "      <td>0</td>\n",
              "      <td>0</td>\n",
              "      <td>0</td>\n",
              "      <td>0</td>\n",
              "      <td>0</td>\n",
              "      <td>112</td>\n",
              "      <td>0.108108</td>\n",
              "      <td>6.250000</td>\n",
              "      <td>1</td>\n",
              "      <td>0</td>\n",
              "    </tr>\n",
              "    <tr>\n",
              "      <th>2</th>\n",
              "      <td>000113f07ec002fd</td>\n",
              "      <td>Hey man, I'm really not trying to edit war. It...</td>\n",
              "      <td>0</td>\n",
              "      <td>0</td>\n",
              "      <td>0</td>\n",
              "      <td>0</td>\n",
              "      <td>0</td>\n",
              "      <td>0</td>\n",
              "      <td>233</td>\n",
              "      <td>0.021390</td>\n",
              "      <td>4.638889</td>\n",
              "      <td>0</td>\n",
              "      <td>0</td>\n",
              "    </tr>\n",
              "    <tr>\n",
              "      <th>3</th>\n",
              "      <td>0001b41b1c6bb37e</td>\n",
              "      <td>\"\\nMore\\nI can't make any real suggestions on ...</td>\n",
              "      <td>0</td>\n",
              "      <td>0</td>\n",
              "      <td>0</td>\n",
              "      <td>0</td>\n",
              "      <td>0</td>\n",
              "      <td>0</td>\n",
              "      <td>622</td>\n",
              "      <td>0.022587</td>\n",
              "      <td>4.212766</td>\n",
              "      <td>0</td>\n",
              "      <td>0</td>\n",
              "    </tr>\n",
              "    <tr>\n",
              "      <th>4</th>\n",
              "      <td>0001d958c54c6e35</td>\n",
              "      <td>You, sir, are my hero. Any chance you remember...</td>\n",
              "      <td>0</td>\n",
              "      <td>0</td>\n",
              "      <td>0</td>\n",
              "      <td>0</td>\n",
              "      <td>0</td>\n",
              "      <td>0</td>\n",
              "      <td>67</td>\n",
              "      <td>0.039216</td>\n",
              "      <td>4.125000</td>\n",
              "      <td>0</td>\n",
              "      <td>1</td>\n",
              "    </tr>\n",
              "  </tbody>\n",
              "</table>\n",
              "</div>\n",
              "      <button class=\"colab-df-convert\" onclick=\"convertToInteractive('df-e1ef0525-249d-4076-b515-61c0fb5e4d9a')\"\n",
              "              title=\"Convert this dataframe to an interactive table.\"\n",
              "              style=\"display:none;\">\n",
              "        \n",
              "  <svg xmlns=\"http://www.w3.org/2000/svg\" height=\"24px\"viewBox=\"0 0 24 24\"\n",
              "       width=\"24px\">\n",
              "    <path d=\"M0 0h24v24H0V0z\" fill=\"none\"/>\n",
              "    <path d=\"M18.56 5.44l.94 2.06.94-2.06 2.06-.94-2.06-.94-.94-2.06-.94 2.06-2.06.94zm-11 1L8.5 8.5l.94-2.06 2.06-.94-2.06-.94L8.5 2.5l-.94 2.06-2.06.94zm10 10l.94 2.06.94-2.06 2.06-.94-2.06-.94-.94-2.06-.94 2.06-2.06.94z\"/><path d=\"M17.41 7.96l-1.37-1.37c-.4-.4-.92-.59-1.43-.59-.52 0-1.04.2-1.43.59L10.3 9.45l-7.72 7.72c-.78.78-.78 2.05 0 2.83L4 21.41c.39.39.9.59 1.41.59.51 0 1.02-.2 1.41-.59l7.78-7.78 2.81-2.81c.8-.78.8-2.07 0-2.86zM5.41 20L4 18.59l7.72-7.72 1.47 1.35L5.41 20z\"/>\n",
              "  </svg>\n",
              "      </button>\n",
              "      \n",
              "  <style>\n",
              "    .colab-df-container {\n",
              "      display:flex;\n",
              "      flex-wrap:wrap;\n",
              "      gap: 12px;\n",
              "    }\n",
              "\n",
              "    .colab-df-convert {\n",
              "      background-color: #E8F0FE;\n",
              "      border: none;\n",
              "      border-radius: 50%;\n",
              "      cursor: pointer;\n",
              "      display: none;\n",
              "      fill: #1967D2;\n",
              "      height: 32px;\n",
              "      padding: 0 0 0 0;\n",
              "      width: 32px;\n",
              "    }\n",
              "\n",
              "    .colab-df-convert:hover {\n",
              "      background-color: #E2EBFA;\n",
              "      box-shadow: 0px 1px 2px rgba(60, 64, 67, 0.3), 0px 1px 3px 1px rgba(60, 64, 67, 0.15);\n",
              "      fill: #174EA6;\n",
              "    }\n",
              "\n",
              "    [theme=dark] .colab-df-convert {\n",
              "      background-color: #3B4455;\n",
              "      fill: #D2E3FC;\n",
              "    }\n",
              "\n",
              "    [theme=dark] .colab-df-convert:hover {\n",
              "      background-color: #434B5C;\n",
              "      box-shadow: 0px 1px 3px 1px rgba(0, 0, 0, 0.15);\n",
              "      filter: drop-shadow(0px 1px 2px rgba(0, 0, 0, 0.3));\n",
              "      fill: #FFFFFF;\n",
              "    }\n",
              "  </style>\n",
              "\n",
              "      <script>\n",
              "        const buttonEl =\n",
              "          document.querySelector('#df-e1ef0525-249d-4076-b515-61c0fb5e4d9a button.colab-df-convert');\n",
              "        buttonEl.style.display =\n",
              "          google.colab.kernel.accessAllowed ? 'block' : 'none';\n",
              "\n",
              "        async function convertToInteractive(key) {\n",
              "          const element = document.querySelector('#df-e1ef0525-249d-4076-b515-61c0fb5e4d9a');\n",
              "          const dataTable =\n",
              "            await google.colab.kernel.invokeFunction('convertToInteractive',\n",
              "                                                     [key], {});\n",
              "          if (!dataTable) return;\n",
              "\n",
              "          const docLinkHtml = 'Like what you see? Visit the ' +\n",
              "            '<a target=\"_blank\" href=https://colab.research.google.com/notebooks/data_table.ipynb>data table notebook</a>'\n",
              "            + ' to learn more about interactive tables.';\n",
              "          element.innerHTML = '';\n",
              "          dataTable['output_type'] = 'display_data';\n",
              "          await google.colab.output.renderOutput(dataTable, element);\n",
              "          const docLink = document.createElement('div');\n",
              "          docLink.innerHTML = docLinkHtml;\n",
              "          element.appendChild(docLink);\n",
              "        }\n",
              "      </script>\n",
              "    </div>\n",
              "  </div>\n",
              "  "
            ]
          },
          "metadata": {},
          "execution_count": 8
        }
      ],
      "source": [
        "df = feature_engineering(df)\n",
        "df.head()"
      ]
    },
    {
      "cell_type": "code",
      "execution_count": null,
      "metadata": {
        "id": "qz1gwcgH9bvV"
      },
      "outputs": [],
      "source": [
        "from sklearn.preprocessing import MinMaxScaler\n",
        "scaler = MinMaxScaler()\n",
        "df[['length', 'caps', 'word_length', 'question', 'exclamation']] = scaler.fit_transform(df[['length', 'caps', 'word_length', 'question', 'exclamation']])\n",
        "\n",
        "with open('MinMaxScaler.pkl', 'wb') as file:\n",
        "  pickle.dump(scaler, file)"
      ]
    },
    {
      "cell_type": "code",
      "execution_count": null,
      "metadata": {
        "id": "ec9f0Bvm9eS7"
      },
      "outputs": [],
      "source": [
        "with open('MinMaxScaler.pkl', 'rb') as file:\n",
        "  scaler = pickle.load(file)\n",
        "\n",
        "df[['length', 'caps', 'word_length', 'question', 'exclamation']] = scaler.transform(df[['length', 'caps', 'word_length', 'question', 'exclamation']])"
      ]
    },
    {
      "cell_type": "code",
      "execution_count": null,
      "metadata": {
        "colab": {
          "base_uri": "https://localhost:8080/"
        },
        "id": "P8hDSwCu7wOW",
        "outputId": "cf1f464e-f6f7-4158-d443-9a9475aa6365"
      },
      "outputs": [
        {
          "output_type": "stream",
          "name": "stdout",
          "text": [
            "Training labels:\n",
            "['toxic', 'severe_toxic', 'obscene', 'threat', 'insult', 'identity_hate']\n",
            "(159571, 6)\n",
            "\n",
            "Training data\n",
            "['comment_text', 'length', 'caps', 'word_length', 'exclamation', 'question']\n",
            "(159571, 6)\n"
          ]
        }
      ],
      "source": [
        "print('Training labels:')\n",
        "print(list(df_targets.columns))\n",
        "print(df_targets.shape)\n",
        "\n",
        "print('\\nTraining data')\n",
        "df.drop(list(df_targets.columns), inplace=True, axis=1)\n",
        "df.drop('id', inplace=True, axis=1)\n",
        "print(list(df.columns))\n",
        "print(df.shape)\n",
        "\n",
        "toxic_rows = df_targets.sum(axis=1)\n",
        "toxic_rows = (toxic_rows > 0)\n",
        "targets.append('any_label')\n",
        "df_targets['any_label'] = toxic_rows.astype(int)\n",
        "\n",
        "new_features = list(df.columns[1:])"
      ]
    },
    {
      "cell_type": "markdown",
      "metadata": {
        "id": "MD_es0YKlg-v"
      },
      "source": [
        "#### Vectorizing the Comments"
      ]
    },
    {
      "cell_type": "markdown",
      "metadata": {
        "id": "xRxuxrlmqWf7"
      },
      "source": [
        "Run only one of the 2 sections below"
      ]
    },
    {
      "cell_type": "code",
      "execution_count": null,
      "metadata": {
        "id": "DotWRg9D83by"
      },
      "outputs": [],
      "source": [
        "#TF-IDF Vectorizor\n",
        "\n",
        "comment_vector = TfidfVectorizer(max_features=25000, analyzer='word', ngram_range=(1, 2),\n",
        "                                 stop_words='english')\n",
        "training_comments = comment_vector.fit_transform(df.comment_text)"
      ]
    },
    {
      "cell_type": "code",
      "execution_count": null,
      "metadata": {
        "id": "IzYaK1bVqA8W"
      },
      "outputs": [],
      "source": [
        "with open('vectorizer.pkl', 'rb') as file:\n",
        "  comment_vector = pickle.load(file)"
      ]
    },
    {
      "cell_type": "code",
      "execution_count": null,
      "metadata": {
        "id": "v8QIJpcSqxVl"
      },
      "outputs": [],
      "source": [
        "training_comments = comment_vector.transform(df.comment_text)"
      ]
    },
    {
      "cell_type": "markdown",
      "metadata": {
        "id": "HJB2nKFxlswd"
      },
      "source": [
        "#### Splitting Datasets"
      ]
    },
    {
      "cell_type": "code",
      "execution_count": null,
      "metadata": {
        "id": "dAVBmjdWG1qv"
      },
      "outputs": [],
      "source": [
        "X = merge_features(training_comments, df, new_features)"
      ]
    },
    {
      "cell_type": "code",
      "execution_count": null,
      "metadata": {
        "id": "zpHmevhfG3_O"
      },
      "outputs": [],
      "source": [
        "sparse.save_npz(\"trainmatrix.npz\", X)"
      ]
    },
    {
      "cell_type": "code",
      "execution_count": null,
      "metadata": {
        "id": "6TAsoT-NaNuX"
      },
      "outputs": [],
      "source": [
        "downloaded = drive.CreateFile({'id':'1Td1nh_L8W3cRt0Y193hvg2qSNxGJA5iH'})\n",
        "downloaded.GetContentFile('trainmatrix.npz')"
      ]
    },
    {
      "cell_type": "code",
      "execution_count": null,
      "metadata": {
        "id": "LP-8WcbHHC2d"
      },
      "outputs": [],
      "source": [
        "X = sparse.load_npz(\"trainmatrix.npz\")"
      ]
    },
    {
      "cell_type": "code",
      "execution_count": null,
      "metadata": {
        "id": "5qCFzY4P9aFl"
      },
      "outputs": [],
      "source": [
        "from sklearn.model_selection import train_test_split\n",
        "#60% 20% 20% split\n",
        "X_train_validate, X_test, y_train_validate, y_test,  = train_test_split(X, df_targets, test_size=0.2, random_state=0)\n",
        "X_train, X_validate, y_train, y_validate,  = train_test_split(X_train_validate, y_train_validate, test_size=0.25, random_state=0)"
      ]
    },
    {
      "cell_type": "code",
      "execution_count": null,
      "metadata": {
        "colab": {
          "base_uri": "https://localhost:8080/"
        },
        "id": "SQ9vWANdBEFQ",
        "outputId": "7ac16865-6156-4164-eb74-f242c39ede01"
      },
      "outputs": [
        {
          "data": {
            "text/plain": [
              "(159571, 25005)"
            ]
          },
          "execution_count": 11,
          "metadata": {},
          "output_type": "execute_result"
        }
      ],
      "source": [
        "X.shape"
      ]
    },
    {
      "cell_type": "code",
      "execution_count": null,
      "metadata": {
        "colab": {
          "base_uri": "https://localhost:8080/"
        },
        "id": "jmgRum1jDOXq",
        "outputId": "b743dc29-097d-4650-cc08-27ab8cf80ba5"
      },
      "outputs": [
        {
          "data": {
            "text/plain": [
              "(159571, 7)"
            ]
          },
          "execution_count": 12,
          "metadata": {},
          "output_type": "execute_result"
        }
      ],
      "source": [
        "df_targets.shape"
      ]
    },
    {
      "cell_type": "code",
      "execution_count": null,
      "metadata": {
        "colab": {
          "base_uri": "https://localhost:8080/"
        },
        "id": "sQXQ72xQEAQQ",
        "outputId": "43b187f4-5c76-4bfc-a6bb-0f9168c1eedd"
      },
      "outputs": [
        {
          "name": "stdout",
          "output_type": "stream",
          "text": [
            "(95742, 25005) (95742, 7) (31914, 25005) (31914, 7) (31915, 25005) (31915, 7)\n"
          ]
        }
      ],
      "source": [
        "print(X_train.shape,y_train.shape,\n",
        "      X_validate.shape, y_validate.shape,\n",
        "      X_test.shape, y_test.shape)"
      ]
    },
    {
      "cell_type": "markdown",
      "metadata": {
        "id": "UjYz2jjOrMLA"
      },
      "source": [
        "### Helper Functions"
      ]
    },
    {
      "cell_type": "markdown",
      "metadata": {
        "id": "NB2HJHcHEP-B"
      },
      "source": [
        "#### Cross Validation"
      ]
    },
    {
      "cell_type": "code",
      "execution_count": null,
      "metadata": {
        "id": "gvIEYMjoEFaz"
      },
      "outputs": [],
      "source": [
        "from sklearn.model_selection import StratifiedKFold\n",
        "from sklearn.model_selection import cross_val_score\n",
        "from sklearn.base import clone\n",
        "from sklearn.metrics import classification_report\n",
        "\n",
        "def cross_validate(num_splits, X, Y, model):\n",
        "\n",
        "  kf = StratifiedKFold(n_splits=num_splits, shuffle= True, random_state=0)\n",
        "  labels = Y.columns\n",
        "  label_scores = {}\n",
        "\n",
        "  for label in labels:\n",
        "    score_list = cross_val_score(clone(model), X, Y[label], scoring='f1', cv=kf)\n",
        "    #print(label, \":\", score_list)\n",
        "    label_scores[str(label) + \" avg f1 score\"] = np.mean(score_list)\n",
        "\n",
        "  return label_scores"
      ]
    }
  ],
  "metadata": {
    "colab": {
      "provenance": []
    },
    "kernelspec": {
      "display_name": "Python 3",
      "name": "python3"
    },
    "language_info": {
      "name": "python"
    }
  },
  "nbformat": 4,
  "nbformat_minor": 0
}